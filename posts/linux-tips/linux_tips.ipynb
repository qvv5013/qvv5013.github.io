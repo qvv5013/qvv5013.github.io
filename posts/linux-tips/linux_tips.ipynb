{
 "cells": [
  {
   "cell_type": "raw",
   "id": "e83329cf",
   "metadata": {},
   "source": [
    "---\n",
    "title: \"Some Linux commands frequently used\"\n",
    "author: \"Quyen Vu\"\n",
    "date: \"2022-12-09\"\n",
    "categories: [Linux]\n",
    "format:\n",
    "  html:\n",
    "    code-fold: false\n",
    "jupyter: bash\n",
    "---"
   ]
  },
  {
   "cell_type": "markdown",
   "id": "63a8644a",
   "metadata": {},
   "source": [
    "This post contains some `bash` code-snippet to make my daily work easier.\n"
   ]
  },
  {
   "cell_type": "markdown",
   "id": "6ad730ee",
   "metadata": {},
   "source": [
    "# Loop through array"
   ]
  },
  {
   "cell_type": "markdown",
   "id": "9dcb17de",
   "metadata": {},
   "source": [
    "In case of looping through an continous list of number:\n",
    "\n",
    "```{.bash .numberLines .lineAnchors}\n",
    "#!/bin/bash\n",
    "for i in {1..100}\n",
    "do\n",
    "    # DO SOMETHING\n",
    "done\n",
    "```\n",
    "\n",
    "If the list to loop is not continous, used the following form:\n",
    "\n",
    "```{.bash .numberLines .lineAnchors}\n",
    "#!/bin/bash\n",
    "arr=( 3 4 9 10)\n",
    "for i in \"${arr[@]}\"\n",
    "do\n",
    "    echo $i       \n",
    "    #DONE SOMETHING HERE\n",
    "done\n",
    "\n",
    "```\n",
    "\n",
    "Note that `arr` definition is without whitespace."
   ]
  },
  {
   "cell_type": "markdown",
   "id": "247df27d",
   "metadata": {},
   "source": [
    "# Counting number of lines in file\n",
    "\n",
    "Sometime, after perform a long analysis of many simulations. We want to make sure if the analysis is done automatically, instead of looking into single file one-by-one, we can use `bash` script to do so."
   ]
  },
  {
   "cell_type": "markdown",
   "id": "d8035482",
   "metadata": {},
   "source": [
    "```{.bash .numberLines .lineAnchors}\n",
    "#!/bin/bash\n",
    "for i in {1..100}\n",
    "do\n",
    "        #echo \"$i\"\n",
    "        nl=$(wc -l < $i/G_traj_${i}.dat)\n",
    "        if [ $nl -eq 400008 ]; then\n",
    "                echo \"traj $i :  $nl --- DONE\"\n",
    "        else\n",
    "                echo \"traj $i :  $nl --- Has not been DONE\"\n",
    "        fi\n",
    "\n",
    "done\n",
    "\n",
    "```"
   ]
  },
  {
   "cell_type": "markdown",
   "id": "911b5f7e",
   "metadata": {},
   "source": [
    "In this example, we loop through all simulations (1 to 100) and use command: `wc -l < $i/G_traj_${i}.dat` to count the number of lines in file. we assign the output from this command to `nl` variable by packing previous command by `$(command)`"
   ]
  },
  {
   "cell_type": "markdown",
   "id": "d0895f97",
   "metadata": {},
   "source": [
    "# Search and replace in file"
   ]
  },
  {
   "cell_type": "markdown",
   "id": "b8cd9f6a",
   "metadata": {},
   "source": [
    "```{.bash .numberLines .lineAnchors}\n",
    "#!/bin/bash\n",
    "cur_dir=`pwd`\n",
    "for i in {1..100}\n",
    "do\n",
    "        if [ -f \"/net/people/plgqvuvan/plggligroup/qvuvan/10proj/synthesize/cat3/wt/$i/traj/1/prot_l213_dissociation_final.cor\" ]; then\n",
    "                echo \"copy cor and vel file for run $i\"\n",
    "                rm -rf $i && mkdir $i\n",
    "                cp /net/people/plgqvuvan/plggligroup/qvuvan/10proj/synthesize/cat3/wt/$i/traj/1/prot_l213_dissociation_final.cor $i/\n",
    "                cp /net/people/plgqvuvan/plggligroup/qvuvan/10proj/synthesize/cat3/wt/$i/traj/1/prot_l213_dissociation_final.vel $i/\n",
    "                cp template/* $i/\n",
    "                sed \"s/SETINDEX/${i}/g\" -i ${i}/job_plgrid_gpu.sh\n",
    "                sed \"s/SETINDEX/${i}/g\" -i ${i}/control.cntrl\n",
    "        else\n",
    "                echo \"simulation $i is not finished\"\n",
    "        fi\n",
    "done\n",
    "```"
   ]
  },
  {
   "cell_type": "markdown",
   "id": "d86aeae8",
   "metadata": {},
   "source": [
    "* line 5: check if file `prot_l213_dissociation_final.cor` in specified directory existed. If yes, then run the code block.\n",
    "* line 11-12: `sed` command used to search and replace pattern `SETINDEX` in file `${i}/job_plgrid_gpu.sh` by value of variable `$i`"
   ]
  },
  {
   "cell_type": "code",
   "execution_count": null,
   "id": "7798371b",
   "metadata": {},
   "outputs": [],
   "source": []
  }
 ],
 "metadata": {
  "kernelspec": {
   "display_name": "Python 3 (ipykernel)",
   "language": "python",
   "name": "python3"
  },
  "language_info": {
   "codemirror_mode": {
    "name": "ipython",
    "version": 3
   },
   "file_extension": ".py",
   "mimetype": "text/x-python",
   "name": "python",
   "nbconvert_exporter": "python",
   "pygments_lexer": "ipython3",
   "version": "3.10.5"
  },
  "toc": {
   "base_numbering": 1,
   "nav_menu": {},
   "number_sections": true,
   "sideBar": true,
   "skip_h1_title": false,
   "title_cell": "Table of Contents",
   "title_sidebar": "Contents",
   "toc_cell": false,
   "toc_position": {},
   "toc_section_display": true,
   "toc_window_display": false
  }
 },
 "nbformat": 4,
 "nbformat_minor": 5
}
