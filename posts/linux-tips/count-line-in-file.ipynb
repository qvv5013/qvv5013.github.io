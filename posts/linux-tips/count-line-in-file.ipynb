{
 "cells": [
  {
   "cell_type": "raw",
   "id": "e83329cf",
   "metadata": {},
   "source": [
    "---\n",
    "title: \"Counting number of line from file in linux\"\n",
    "author: \"Quyen Vu\"\n",
    "date: \"2022-12-09\"\n",
    "categories: [Linux]\n",
    "format:\n",
    "  html:\n",
    "    code-fold: false\n",
    "jupyter: bash\n",
    "---"
   ]
  },
  {
   "cell_type": "raw",
   "id": "2eac7bfc",
   "metadata": {},
   "source": [
    "Sometime, after perform a long analysis of many simulations. We want to make sure if the analysis is done automatically, instead of looking into single file one-by-one, we can use `bash` script to do so."
   ]
  },
  {
   "cell_type": "markdown",
   "id": "d8035482",
   "metadata": {},
   "source": [
    "```bash\n",
    "#!/bin/bash\n",
    "for i in {1..100}\n",
    "do\n",
    "        #echo \"$i\"\n",
    "        nl=$(wc -l < $i/G_traj_${i}.dat)\n",
    "        if [ $nl -eq 400008 ]; then\n",
    "                echo \"traj $i :  $nl --- DONE\"\n",
    "        else\n",
    "                echo \"traj $i :  $nl --- Has not been DONE\"\n",
    "        fi\n",
    "\n",
    "done\n",
    "\n",
    "```"
   ]
  },
  {
   "cell_type": "markdown",
   "id": "911b5f7e",
   "metadata": {},
   "source": [
    "In this example, we loop through all simulations (1 to 100) and use command: `wc -l < $i/G_traj_${i}.dat` to count the number of lines in file. we assign the output from this command to `nl` variable by packing previous command by `$(command)`"
   ]
  },
  {
   "cell_type": "code",
   "execution_count": null,
   "id": "df3857cc",
   "metadata": {},
   "outputs": [],
   "source": []
  }
 ],
 "metadata": {
  "kernelspec": {
   "display_name": "Python 3 (ipykernel)",
   "language": "python",
   "name": "python3"
  },
  "language_info": {
   "codemirror_mode": {
    "name": "ipython",
    "version": 3
   },
   "file_extension": ".py",
   "mimetype": "text/x-python",
   "name": "python",
   "nbconvert_exporter": "python",
   "pygments_lexer": "ipython3",
   "version": "3.10.5"
  },
  "toc": {
   "base_numbering": 1,
   "nav_menu": {},
   "number_sections": true,
   "sideBar": true,
   "skip_h1_title": false,
   "title_cell": "Table of Contents",
   "title_sidebar": "Contents",
   "toc_cell": false,
   "toc_position": {},
   "toc_section_display": true,
   "toc_window_display": false
  }
 },
 "nbformat": 4,
 "nbformat_minor": 5
}
