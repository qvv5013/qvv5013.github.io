{
 "cells": [
  {
   "cell_type": "raw",
   "id": "e83329cf",
   "metadata": {},
   "source": [
    "---\n",
    "title: \"Openmm Coarse-grained Simulations\"\n",
    "author: \"Quyen Vu\"\n",
    "date: \"2022-12-09\"\n",
    "draft: true\n",
    "categories: [HPC, Slurm, OpenMM]\n",
    "format:\n",
    "  html:\n",
    "    code-fold: false\n",
    "jupyter: bash\n",
    "---"
   ]
  },
  {
   "cell_type": "markdown",
   "id": "202fb539",
   "metadata": {},
   "source": [
    "# Ares supercomputer"
   ]
  },
  {
   "cell_type": "markdown",
   "id": "d8035482",
   "metadata": {},
   "source": [
    "```bash\n",
    "#!/bin/bash\n",
    "#SBATCH --partition plgrid\n",
    "#SBATCH --job-name cryosparc-master\n",
    "#SBATCH --nodes 1\n",
    "#SBATCH --ntasks-per-node 1\n",
    "#SBATCH --mem 15GB\n",
    "#SBATCH --time 72:00:00\n",
    "#SBATCH -C localfs\n",
    "#SBATCH -A plgrisa-cpu\n",
    "#SBATCH --dependency=singleton\n",
    "#SBATCH --output cryosparc-master-log-%J.txt\n",
    "#SBATCH --signal=B:2@240\n",
    "\n",
    "echo \"Job run\" > test.txt\n",
    "```"
   ]
  },
  {
   "cell_type": "markdown",
   "id": "911b5f7e",
   "metadata": {},
   "source": [
    "# Prepare environment for simulations"
   ]
  },
  {
   "cell_type": "markdown",
   "id": "764f9a84",
   "metadata": {},
   "source": [
    "## Install packages"
   ]
  },
  {
   "cell_type": "markdown",
   "id": "71d08a40",
   "metadata": {},
   "source": [
    "```bash\n",
    "conda install -c openmm=7.7 parmed mdtraj\n",
    "```"
   ]
  },
  {
   "cell_type": "markdown",
   "id": "5663bd59",
   "metadata": {},
   "source": [
    "Notes on cluster information:\n",
    "```\n",
    "* local machine: (py310) openMM 7.7+ cudatoolkit 11.6\n",
    "* Plgrid: (py310) openMM 7.7+ cudatoolkit 10.2\n",
    "* ACI: (base) OpenMM 7.7+ cudatoolkit 11.7\n",
    "* Ares: openMM 7.7 + cudatoolkit 11.6 ( GPU Tesla V100)\n",
    "```"
   ]
  },
  {
   "cell_type": "markdown",
   "id": "a8a43f9c",
   "metadata": {},
   "source": [
    "### Job with GPU"
   ]
  },
  {
   "cell_type": "markdown",
   "id": "823637c9",
   "metadata": {},
   "source": [
    "```bash\n",
    "#!/bin/bash\n",
    "#SBATCH --job-name test_ares\n",
    "#SBATCH --nodes 1\n",
    "#SBATCH --partition plgrid-gpu-v100\n",
    "#SBATCH --ntasks-per-node 1\n",
    "#SBATCH --mem 15GB\n",
    "#SBATCH --time 48:00:00\n",
    "#SBATCH -C localfs\n",
    "#SBATCH -A plgrisa-gpu\n",
    "#SBATCH --dependency=singleton\n",
    "#SBATCH --output cryosparc-master-log-%J.txt\n",
    "#SBATCH --signal=B:2@240\n",
    "## prometheus\n",
    "#source /net/people/plgqvuvan/anaconda3/etc/profile.d/conda.sh\n",
    "## ares\n",
    "source /net/people/plgrid/plgqvuvan/plggligroup/qvv5013/anaconda3/etc/profile.d/conda.sh\n",
    "conda activate py310\n",
    "python single_run_extend.py -f control.cntrl\n",
    "```"
   ]
  },
  {
   "cell_type": "markdown",
   "id": "1054f85f",
   "metadata": {},
   "source": [
    "## interactive mode on ares:\n"
   ]
  },
  {
   "cell_type": "markdown",
   "id": "fe10f9b0",
   "metadata": {},
   "source": [
    "* using GPU:\n",
    "`srun -p plgrid-gpu-v100 --nodes=1 --ntasks=1 --mem=5GB --time=0-1 --pty bash`\n",
    "* using CPU:\n",
    "`srun -p plgrid --nodes=1 --ntasks=1 --mem=5GB --time=0-1 --pty bash`"
   ]
  },
  {
   "cell_type": "markdown",
   "id": "0944c38c",
   "metadata": {},
   "source": [
    "even with gromacs:\n",
    "`module add gromacs/2022-foss-2021b-cuda-11.6.0-avx2-256`\n",
    "\n",
    "`\n",
    "gmx mdrun -v -deffnm md -nb gpu\n",
    "`\n",
    "\n",
    "`\n",
    "Fatal error:\n",
    "Cannot run short-ranged nonbonded interactions on a GPU because no GPU is\n",
    "detected.\n",
    "`\n"
   ]
  },
  {
   "cell_type": "code",
   "execution_count": null,
   "id": "df3857cc",
   "metadata": {},
   "outputs": [],
   "source": []
  }
 ],
 "metadata": {
  "kernelspec": {
   "display_name": "Python 3 (ipykernel)",
   "language": "python",
   "name": "python3"
  },
  "language_info": {
   "codemirror_mode": {
    "name": "ipython",
    "version": 3
   },
   "file_extension": ".py",
   "mimetype": "text/x-python",
   "name": "python",
   "nbconvert_exporter": "python",
   "pygments_lexer": "ipython3",
   "version": "3.10.5"
  },
  "toc": {
   "base_numbering": 1,
   "nav_menu": {},
   "number_sections": true,
   "sideBar": true,
   "skip_h1_title": false,
   "title_cell": "Table of Contents",
   "title_sidebar": "Contents",
   "toc_cell": false,
   "toc_position": {},
   "toc_section_display": true,
   "toc_window_display": false
  }
 },
 "nbformat": 4,
 "nbformat_minor": 5
}
