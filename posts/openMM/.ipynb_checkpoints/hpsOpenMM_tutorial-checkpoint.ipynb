{
 "cells": [
  {
   "cell_type": "raw",
   "id": "3c4a168e",
   "metadata": {},
   "source": [
    "---\n",
    "title: \"hpsOpenMM tutorial\"\n",
    "author: \"Quyen Vu\"\n",
    "date: \"2023-01-22\"\n",
    "draft: false\n",
    "categories: [IDP, OpenMM]\n",
    "format:\n",
    "  html:\n",
    "    code-fold: false\n",
    "jupyter: python3\n",
    "---"
   ]
  },
  {
   "cell_type": "code",
   "execution_count": 2,
   "id": "418cb2a9",
   "metadata": {},
   "outputs": [
    {
     "data": {
      "application/vnd.jupyter.widget-view+json": {
       "model_id": "1131952d8305460bb037d7e069f56e8a",
       "version_major": 2,
       "version_minor": 0
      },
      "text/plain": []
     },
     "metadata": {},
     "output_type": "display_data"
    },
    {
     "name": "stderr",
     "output_type": "stream",
     "text": [
      "Warning: importing 'simtk.openmm' is deprecated.  Import 'openmm' instead.\n"
     ]
    },
    {
     "data": {
      "application/vnd.jupyter.widget-view+json": {
       "model_id": "84c8984eb8f647f08244cfba50e97d70",
       "version_major": 2,
       "version_minor": 0
      },
      "text/plain": [
       "NGLWidget()"
      ]
     },
     "metadata": {},
     "output_type": "display_data"
    }
   ],
   "source": [
    "# ```{python}\n",
    "import MDAnalysis as mda\n",
    "import nglview as nv\n",
    "from ipywidgets import interact, fixed\n",
    "from IPython.display import display\n",
    "u=mda.Universe('hpsopenmm/FUS_4chains.pdb')\n",
    "# protein\n",
    "view = nv.show_mdanalysis(u)\n",
    "# view.orientation = [[48.326230767865376, -9.748747266627937, -70.91162108709592],\n",
    "#  [-0.37675314228157986, 0.8477619388303186, -0.37330518996072426],\n",
    "#  [-24.275074005126953, -25.68029546737671, -38.50686955451965],\n",
    "#  [0, 0, 0]]\n",
    "view.add_cartoon()\n",
    "view\n",
    "# ```"
   ]
  },
  {
   "cell_type": "markdown",
   "id": "dfc3f5f8",
   "metadata": {},
   "source": [
    "u=mda.Universe('hpsopenmm/FUS_4chains.pdb')\n",
    "# protein\n",
    "view = nv.show_mdanalysis(u)\n",
    "# view.orientation = [[48.326230767865376, -9.748747266627937, -70.91162108709592],\n",
    "#  [-0.37675314228157986, 0.8477619388303186, -0.37330518996072426],\n",
    "#  [-24.275074005126953, -25.68029546737671, -38.50686955451965],\n",
    "#  [0, 0, 0]]\n",
    "view.add_cartoon()\n",
    "view\n",
    "```\n",
    "# view.render_image()"
   ]
  },
  {
   "cell_type": "markdown",
   "id": "961ac8b8",
   "metadata": {},
   "source": [
    "view.clear()\n",
    "view.parameters = dict(camera_type='orthographic', \n",
    "                       background_color='black',\n",
    "                       clip_dist=0)\n",
    "view.add_cartoon()"
   ]
  },
  {
   "cell_type": "code",
   "execution_count": null,
   "id": "7531ec8e",
   "metadata": {},
   "outputs": [],
   "source": []
  }
 ],
 "metadata": {
  "kernelspec": {
   "display_name": "Python 3 (ipykernel)",
   "language": "python",
   "name": "python3"
  },
  "language_info": {
   "codemirror_mode": {
    "name": "ipython",
    "version": 3
   },
   "file_extension": ".py",
   "mimetype": "text/x-python",
   "name": "python",
   "nbconvert_exporter": "python",
   "pygments_lexer": "ipython3",
   "version": "3.10.5"
  }
 },
 "nbformat": 4,
 "nbformat_minor": 5
}
