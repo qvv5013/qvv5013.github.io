{
 "cells": [
  {
   "cell_type": "raw",
   "id": "e83329cf",
   "metadata": {},
   "source": [
    "---\n",
    "title: \"Implementation of Mpipi model in OpenMM\"\n",
    "author: \"Quyen Vu\"\n",
    "date: \"2023-01-11\"\n",
    "draft: false\n",
    "categories: [IDP, OpenMM]\n",
    "format:\n",
    "  html:\n",
    "    code-fold: false\n",
    "jupyter: python\n",
    "---"
   ]
  },
  {
   "attachments": {},
   "cell_type": "markdown",
   "id": "abb49c81",
   "metadata": {},
   "source": [
    "![](WF_LJ.jpg)"
   ]
  },
  {
   "cell_type": "markdown",
   "id": "202fb539",
   "metadata": {},
   "source": [
    "\n",
    "<b>Mpipi model is a coarse-grain model for simulating IDP.</b> The original code is implemented in LAMMPS but I am not familiar with LAMMPS either.\n",
    "\n",
    "\n",
    "\n",
    "The original paper: <b> Physics-driven coarse-grained model for biomolecular phase separation with near-quantitative accuracy.</b>\n",
    "\n",
    "Nature Computational Science volume 1, pages732–743 (2021). PDF file can be accessed from [here](https://www.nature.com/articles/s43588-021-00155-3.epdf?sharing_token=EFzbweM1tOcYysI9oqUf9tRgN0jAjWel9jnR3ZoTv0OS6pLrbg60YiLYD1_wVdGp2Eu-H3ug5R37GhptvP-gObky-AytK6zbXFSGemcfdNg2kiUHIMYOv2d1wMOnNfHohUITqWql4RDHZjLEnHFs365Wh9a4RcPzXXly-vH42d8%3D)"
   ]
  },
  {
   "cell_type": "markdown",
   "id": "d8035482",
   "metadata": {},
   "source": [
    "This model is different from other hps-based model is instead of using LJ12-6 potential, it used Wang-Frenkel potential.\n",
    "\n",
    "$\\phi_{i,j}(r) = \\epsilon_{i,j}  \\alpha_{ij}  \\left[\\left(\\frac{\\sigma_{ij}}{r}\\right)^{2\\mu_{ij}}-1 \\right]  \\left[ \\left(\\frac{R_{ij}}{r}\\right)^{2\\mu_{ij}}-1\\right]^{2\\nu_{ij}}$\n",
    "\n",
    "where, \n",
    "\n",
    "$\\alpha_{ij}= 2\\nu_{ij} \\times \\left(\\frac{R_{ij}}{\\sigma_{ij}}\\right)^{2\\mu_{ij}} \\times \\left[ \\frac{(2\\nu_{ij}+1)}{2\\nu_{ij} \\left( \\left(\\frac{R_{ij}}{\\sigma_{ij}}\\right)^{2\\mu_{ij}}-1 \\right) })\\right]^{2\\nu_{ij}+1}$\n",
    "\n",
    "They used: $\\nu_{ij}=1$ and $R_{ij}=3\\sigma_{ij}$\n",
    "\n",
    "$\\sigma_{ij}, \\epsilon_{ij}, \\mu_{ij}$ are parameters specified for each pait of interacting beads."
   ]
  },
  {
   "cell_type": "markdown",
   "id": "911b5f7e",
   "metadata": {},
   "source": [
    "# Implementation\n"
   ]
  },
  {
   "cell_type": "markdown",
   "id": "71d08a40",
   "metadata": {},
   "source": [
    "To implement this functional form. We used TabulatedFunction in OpenMM."
   ]
  },
  {
   "cell_type": "markdown",
   "id": "5663bd59",
   "metadata": {},
   "source": [
    "First, we need to define the atom type of each residue, this definition is implemented in `hps/parameters/model_parameters.py` file as a dictionary, or github: [here](https://github.com/qvv5013/hpsOpenMM/blob/main/hps/parameters/model_parameters.py)\n"
   ]
  },
  {
   "cell_type": "markdown",
   "id": "8fa330dc",
   "metadata": {},
   "source": [
    "--------------------------------------------"
   ]
  },
  {
   "cell_type": "markdown",
   "id": "48c742e3",
   "metadata": {},
   "source": [
    "Function is defined in `hps/core/system.py`. Here is the copied function:"
   ]
  },
  {
   "cell_type": "markdown",
   "id": "2c74fbcc",
   "metadata": {},
   "source": [
    "```{.python .numberLines .lineAnchors}\n",
    "    def add_Wang_Frenkel_Forces(self, use_pbc: bool):\n",
    "        \"\"\"\n",
    "        MPIPI model. using TabulatedFunction for pair interaction.\n",
    "        More information about TabulatedFUnction can be found here:\n",
    "        http://docs.openmm.org/7.2.0/api-c++/generated/OpenMM.Discrete2DFunction.html\n",
    "        \"\"\"\n",
    "        wang_frenkel_cutoff = 2.5 * unit.nanometer\n",
    "\n",
    "        \"\"\"\n",
    "        In the model module, we only call this function when the model is mpipi so the following condition likely to be\n",
    "        true. But to be sure, we still check here.\n",
    "        \"\"\"\n",
    "        assert self.model in ['mpipi'], \"Wang-Frenkel is only used in Mpipi model.\"\n",
    "\n",
    "        table_eps = model_parameters.parameters[self.model]['eps_ij']\n",
    "        table_eps_ravel = table_eps.ravel().tolist()\n",
    "\n",
    "        table_sigma = model_parameters.parameters[self.model]['sigma_ij']\n",
    "        table_sigma_ravel = table_sigma.ravel().tolist()\n",
    "\n",
    "        table_nu = model_parameters.parameters[self.model]['nu_ij']\n",
    "        table_nu_ravel = table_nu.ravel().tolist()\n",
    "\n",
    "        table_mu = model_parameters.parameters[self.model]['mu_ij']\n",
    "        table_mu_ravel = table_mu.ravel().tolist()\n",
    "\n",
    "        table_rc = model_parameters.parameters[self.model]['rc_ij']\n",
    "        table_rc_ravel = table_rc.ravel().tolist()\n",
    "\n",
    "        # number of atom types in model. currently with protein, there are 20.\n",
    "        n_atom_types = table_sigma.shape[0]\n",
    "\n",
    "        # eps, sigma, nu, mu, rc: load from tabular table\n",
    "        \"\"\"\n",
    "        Note: here we use abs function in ((rc/r)^(2*mu)-1)^(2*nu) because otherwise, nu added by parameters is float.\n",
    "        when r>rc, produces this is negative and non-integer power of float is nan.\n",
    "        \"\"\"\n",
    "        energy_function = 'eps * 2*nu*(rc/sigma)^(2*mu) * ((2*nu+1)/(2*nu*((rc/sigma)^(2*mu)-1)))^(2*nu+1)'\n",
    "        energy_function += '* ((sigma/r)^(2*mu)-1 )* abs((rc/r)^(2*mu)-1)^(2*nu);'\n",
    "        energy_function += 'eps = eps_table(id1, id2); sigma = sigma_table(id1, id2);'\n",
    "        energy_function += 'nu = nu_table(id1, id2);'\n",
    "        energy_function += 'mu = mu_table(id1, id2);'\n",
    "        energy_function += 'rc=rc_table(id1, id2)'\n",
    "\n",
    "        self.wang_Frenkel_Force = mm.CustomNonbondedForce(energy_function)\n",
    "        self.wang_Frenkel_Force.addTabulatedFunction('eps_table', mm.Discrete2DFunction(n_atom_types, n_atom_types,\n",
    "                                                                                        table_eps_ravel))\n",
    "        self.wang_Frenkel_Force.addTabulatedFunction('sigma_table',\n",
    "                                                     mm.Discrete2DFunction(n_atom_types, n_atom_types,\n",
    "                                                                           table_sigma_ravel))\n",
    "        self.wang_Frenkel_Force.addTabulatedFunction('nu_table', mm.Discrete2DFunction(n_atom_types, n_atom_types,\n",
    "                                                                                       table_nu_ravel))\n",
    "        self.wang_Frenkel_Force.addTabulatedFunction('mu_table', mm.Discrete2DFunction(n_atom_types, n_atom_types,\n",
    "                                                                                       table_mu_ravel))\n",
    "        self.wang_Frenkel_Force.addTabulatedFunction('rc_table', mm.Discrete2DFunction(n_atom_types, n_atom_types,\n",
    "                                                                                       table_rc_ravel))\n",
    "        self.wang_Frenkel_Force.addPerParticleParameter('id')\n",
    "\n",
    "        for i, atom in enumerate(self.atoms):\n",
    "            self.wang_Frenkel_Force.addParticle((self.particle_type_id[i],))\n",
    "\n",
    "        if use_pbc:\n",
    "            self.wang_Frenkel_Force.setNonbondedMethod(mm.NonbondedForce.CutoffPeriodic)\n",
    "        else:\n",
    "            self.wang_Frenkel_Force.setNonbondedMethod(mm.NonbondedForce.CutoffNonPeriodic)\n",
    "\n",
    "        self.wang_Frenkel_Force.setCutoffDistance(wang_frenkel_cutoff)\n",
    "\n",
    "        # set exclusion rule\n",
    "        bonded_exclusions = [(b[0].index, b[1].index) for b in list(self.topology.bonds())]\n",
    "        self.wang_Frenkel_Force.createExclusionsFromBonds(bonded_exclusions, self.bonded_exclusions_index)\n",
    "```"
   ]
  },
  {
   "cell_type": "markdown",
   "id": "2e86871e",
   "metadata": {},
   "source": [
    "* line 15-28: read the numpy array define $\\epsilon_{ij}$, $\\nu_{ij}$, $\\mu_{ij}$, and $R_{ij}$\n",
    "* line 38-43: define the energy function to pass into `CustomNonbondedForce`\n",
    "* line 46-55: let openMM knows where to get `eps_table` and other tabulated variables\n",
    "* the only Per-Particle-Parameter is the `id` of the particle, this is `id` of the residue type which is defined in `model_parameters.py`\n",
    "* Other lines are self-explained."
   ]
  },
  {
   "cell_type": "markdown",
   "id": "69662d41",
   "metadata": {},
   "source": [
    "# TabulatedFunction:\n",
    "\n",
    "This is an interesting point from computational perpective.\n",
    "\n",
    "More information about TabulatedFunction can be found in OpenMM documentation [here](http://docs.openmm.org/7.2.0/api-c++/generated/OpenMM.Discrete2DFunction.html)"
   ]
  },
  {
   "cell_type": "markdown",
   "id": "f091f307",
   "metadata": {},
   "source": [
    "Here, I will use 2D Discrete function. \n",
    "\n",
    "The function works as follow:\n",
    "`Discrete2DFunction(xsize, ysize, val)`\n",
    "\n",
    "the tabulated values of the function `f(x,y)`, ordered so that `values[i+xsize*j] = f(i,j)`. This must be of length `xsize*ysize`.\n",
    "\n",
    "This is the reason why I use `ravel()` function from python to covnert 2D array to 1D array above."
   ]
  },
  {
   "cell_type": "markdown",
   "id": "96785ff8",
   "metadata": {},
   "source": [
    "In this code, I call:\\\n",
    "$\\epsilon_{ij}$ = `eps`,\\\n",
    "$\\nu_{ij}$ = `nu`,\\\n",
    "$\\mu_{ij}$ = `mu`,\\\n",
    "$R_{ij}$ = `rc`\n",
    "\n",
    "Each particle has Per-Particle-Parameter: `id`\n",
    "\n",
    "Here, we define, i.e: `eps` is a tabulated function: `eps = eps_table(id1, id2)`. The value will be extracted from particle `id`"
   ]
  },
  {
   "cell_type": "markdown",
   "id": "367dbd78",
   "metadata": {},
   "source": [
    "In my computer, the last part of the energy function: `((rc/r)^(2*mu)-1)^(2*nu)` will be `nan` when `r>rc`.\n",
    "This is very strange since `nu` is loaded as float but `2*nu` will always be an even number. My computer doesn't know that by some rounding rules of floating point. when `r>rc`: `rc/r<1`, `rc/r-1<0`, and non-integer number power of negative value is `NaN`.\n",
    "\n",
    "That's why I used the `abs` function before this part as the power is even so they are equivalent."
   ]
  },
  {
   "cell_type": "code",
   "execution_count": null,
   "id": "062f30ba",
   "metadata": {},
   "outputs": [],
   "source": []
  }
 ],
 "metadata": {
  "kernelspec": {
   "display_name": "Python 3 (ipykernel)",
   "language": "python",
   "name": "python3"
  },
  "language_info": {
   "codemirror_mode": {
    "name": "ipython",
    "version": 3
   },
   "file_extension": ".py",
   "mimetype": "text/x-python",
   "name": "python",
   "nbconvert_exporter": "python",
   "pygments_lexer": "ipython3",
   "version": "3.9.13"
  },
  "toc": {
   "base_numbering": 1,
   "nav_menu": {},
   "number_sections": true,
   "sideBar": true,
   "skip_h1_title": false,
   "title_cell": "Table of Contents",
   "title_sidebar": "Contents",
   "toc_cell": false,
   "toc_position": {},
   "toc_section_display": true,
   "toc_window_display": false
  }
 },
 "nbformat": 4,
 "nbformat_minor": 5
}
