{
 "cells": [
  {
   "cell_type": "raw",
   "id": "e83329cf",
   "metadata": {},
   "source": [
    "---\n",
    "title: \"Slurm scripts and commands to submit jobs on clusters\"\n",
    "author: \"Quyen Vu\"\n",
    "date: \"2022-11-26\"\n",
    "categories: [HPC, Slurm]\n",
    "format:\n",
    "  html:\n",
    "    code-fold: false\n",
    "jupyter: bash\n",
    "---"
   ]
  },
  {
   "cell_type": "markdown",
   "id": "202fb539",
   "metadata": {},
   "source": [
    "# Ares supercomputer"
   ]
  },
  {
   "cell_type": "markdown",
   "id": "7dafb0a5",
   "metadata": {},
   "source": [
    "#### CPU job script"
   ]
  },
  {
   "cell_type": "markdown",
   "id": "d8035482",
   "metadata": {},
   "source": [
    "```{.bash .numberLines .lineAnchors}\n",
    "#!/bin/bash\n",
    "#SBATCH --partition plgrid\n",
    "#SBATCH --job-name cryosparc-master\n",
    "#SBATCH --nodes 1\n",
    "#SBATCH --ntasks-per-node 1\n",
    "#SBATCH --mem 15GB\n",
    "#SBATCH --time 72:00:00\n",
    "#SBATCH -C localfs\n",
    "#SBATCH -A plgrisa-cpu\n",
    "#SBATCH --dependency=singleton\n",
    "#SBATCH --output cryosparc-master-log-%J.txt\n",
    "#SBATCH --signal=B:2@240\n",
    "\n",
    "echo \"Job run\" > test.txt\n",
    "```"
   ]
  },
  {
   "cell_type": "markdown",
   "id": "758e2931",
   "metadata": {},
   "source": [
    "#### GPU Job script"
   ]
  },
  {
   "cell_type": "markdown",
   "id": "8dee541d",
   "metadata": {},
   "source": [
    "```{.bash .numberLines .lineAnchors}\n",
    "#!/bin/bash\n",
    "#SBATCH --job-name ispe_0\n",
    "#SBATCH --nodes 1\n",
    "#SBATCH --partition plgrid-gpu-v100\n",
    "#SBATCH --gres=gpu:1\n",
    "#SBATCH --ntasks-per-node 1\n",
    "#SBATCH --mem 15GB\n",
    "#SBATCH --time 48:00:00\n",
    "#SBATCH -C localfs\n",
    "#SBATCH -A plgrisa-gpu\n",
    "#SBATCH --dependency=singleton\n",
    "#SBATCH --output=output.out\n",
    "#SBATCH --error=error.err\n",
    "#SBATCH --signal=B:2@240\n",
    "## ares\n",
    "conda init bash\n",
    "source /net/people/plgrid/plgqvuvan/plggligroup/qvv5013/anaconda3/etc/profile.d/conda.sh\n",
    "conda activate py310\n",
    "cd $SLURM_SUBMIT_DIR\n",
    "echo `pwd`\n",
    "#\n",
    "python single_run.py -f control.cntrl\n",
    "\n",
    "```"
   ]
  },
  {
   "cell_type": "markdown",
   "id": "9cc69758-4ec5-4e00-9670-f8e9973edf14",
   "metadata": {},
   "source": [
    "## Interactive mode on Ares"
   ]
  },
  {
   "cell_type": "markdown",
   "id": "fc06df38-902c-40f2-bf02-5040aeb2b264",
   "metadata": {},
   "source": [
    "```bash\n",
    "srun -p plgrid -N 1 --ntasks-per-node=1 -n 1 -A plgrisa-cpu --pty /bin/bash -l\n",
    "```"
   ]
  },
  {
   "cell_type": "markdown",
   "id": "9d8dea9c",
   "metadata": {},
   "source": [
    "# Prometheus supercomputer"
   ]
  },
  {
   "cell_type": "markdown",
   "id": "ccd965a2",
   "metadata": {},
   "source": [
    "#### CPU job"
   ]
  },
  {
   "cell_type": "markdown",
   "id": "74ac03a8",
   "metadata": {},
   "source": [
    "#### GPU job scripts"
   ]
  },
  {
   "cell_type": "markdown",
   "id": "556f2a4b",
   "metadata": {},
   "source": [
    "```{.bash .numberLines .lineAnchors}\n",
    "#!/bin/bash -l\n",
    "#SBATCH -J pGcat_SETINDEX\n",
    "#SBATCH -N 1\n",
    "#SBATCH --ntasks-per-node=1\n",
    "#SBATCH --mem-per-cpu=5GB\n",
    "#SBATCH --time=72:00:00\n",
    "#SBATCH -A plgribo3gpu\n",
    "#SBATCH --gres=gpu\n",
    "#SBATCH -p plgrid-gpu\n",
    "#SBATCH --output=output.out\n",
    "#SBATCH --error=error.err\n",
    "cd $SLURM_SUBMIT_DIR\n",
    "srun /bin/hostname\n",
    "\n",
    "perl calc_entanglement_number.pl -i ../../setup/3cla_m_clean_ca.cor -t ../../SETINDEX/cat3_SETINDEX_prod.dcd -o ./\n",
    "\n",
    "```"
   ]
  },
  {
   "cell_type": "code",
   "execution_count": null,
   "id": "e61ef9ff-257e-4e82-b910-8bee0ccef34e",
   "metadata": {},
   "outputs": [],
   "source": []
  }
 ],
 "metadata": {
  "kernelspec": {
   "display_name": "Python 3 (ipykernel)",
   "language": "python",
   "name": "python3"
  },
  "language_info": {
   "codemirror_mode": {
    "name": "ipython",
    "version": 3
   },
   "file_extension": ".py",
   "mimetype": "text/x-python",
   "name": "python",
   "nbconvert_exporter": "python",
   "pygments_lexer": "ipython3",
   "version": "3.9.16"
  },
  "toc": {
   "base_numbering": 1,
   "nav_menu": {},
   "number_sections": true,
   "sideBar": true,
   "skip_h1_title": false,
   "title_cell": "Table of Contents",
   "title_sidebar": "Contents",
   "toc_cell": false,
   "toc_position": {},
   "toc_section_display": true,
   "toc_window_display": false
  }
 },
 "nbformat": 4,
 "nbformat_minor": 5
}
