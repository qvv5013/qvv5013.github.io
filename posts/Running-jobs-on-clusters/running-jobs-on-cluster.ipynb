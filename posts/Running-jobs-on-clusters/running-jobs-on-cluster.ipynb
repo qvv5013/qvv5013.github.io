{
 "cells": [
  {
   "cell_type": "raw",
   "id": "e83329cf",
   "metadata": {},
   "source": [
    "---\n",
    "title: \"Running jobs on clusters\"\n",
    "author: \"Quyen Vu\"\n",
    "date: \"2022-11-26\"\n",
    "categories: [HPC, Slurm]\n",
    "format:\n",
    "  html:\n",
    "    code-fold: false\n",
    "jupyter: bash\n",
    "---"
   ]
  },
  {
   "cell_type": "markdown",
   "id": "202fb539",
   "metadata": {},
   "source": [
    "# Ares supercomputer"
   ]
  },
  {
   "cell_type": "markdown",
   "id": "d8035482",
   "metadata": {},
   "source": [
    "```bash\n",
    "#!/bin/bash\n",
    "#SBATCH --partition plgrid\n",
    "#SBATCH --job-name cryosparc-master\n",
    "#SBATCH --nodes 1\n",
    "#SBATCH --ntasks-per-node 1\n",
    "#SBATCH --mem 15GB\n",
    "#SBATCH --time 72:00:00\n",
    "#SBATCH -C localfs\n",
    "#SBATCH -A plgrisa-cpu\n",
    "#SBATCH --dependency=singleton\n",
    "#SBATCH --output cryosparc-master-log-%J.txt\n",
    "#SBATCH --signal=B:2@240\n",
    "\n",
    "echo \"Job run\" > test.txt\n",
    "```"
   ]
  },
  {
   "cell_type": "code",
   "execution_count": null,
   "id": "4ac9dcf5",
   "metadata": {},
   "outputs": [],
   "source": []
  }
 ],
 "metadata": {
  "kernelspec": {
   "display_name": "Python 3 (ipykernel)",
   "language": "python",
   "name": "python3"
  },
  "language_info": {
   "codemirror_mode": {
    "name": "ipython",
    "version": 3
   },
   "file_extension": ".py",
   "mimetype": "text/x-python",
   "name": "python",
   "nbconvert_exporter": "python",
   "pygments_lexer": "ipython3",
   "version": "3.10.5"
  },
  "toc": {
   "base_numbering": 1,
   "nav_menu": {},
   "number_sections": true,
   "sideBar": true,
   "skip_h1_title": false,
   "title_cell": "Table of Contents",
   "title_sidebar": "Contents",
   "toc_cell": false,
   "toc_position": {},
   "toc_section_display": true,
   "toc_window_display": false
  }
 },
 "nbformat": 4,
 "nbformat_minor": 5
}
