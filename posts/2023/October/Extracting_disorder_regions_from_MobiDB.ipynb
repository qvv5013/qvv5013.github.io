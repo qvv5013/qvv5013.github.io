{
 "cells": [
  {
   "cell_type": "raw",
   "id": "efbc9284e0ba71e3",
   "metadata": {},
   "source": [
    "---\n",
    "title: \"Extracting information from IDP database and IDP classification\"\n",
    "bibliography: references.bib\n",
    "author: \"Quyen Vu\"\n",
    "date: \"2023-10-01\"\n",
    "draft: False\n",
    "categories: [IDP, PED, MobiDB, DisProt]\n",
    "format:\n",
    "  html:\n",
    "    toc: true\n",
    "    code-fold: false\n",
    "jupyter: python3\n",
    "---"
   ]
  },
  {
   "cell_type": "markdown",
   "id": "ef821223c89cc950",
   "metadata": {},
   "source": [
    "# Introduction\n",
    "\n",
    "Proteins are complex biomolecules crucial for the functioning of living organisms. They come in various shapes and sizes, each designed for specific functions within cells. Some proteins are well-structured, while others exhibit intrinsic disorder. Understanding the level of disorder in a protein is essential for unraveling its biological role. In this blog post, we'll explore how we can determine if a protein is fully intrinsically disordered, contains structured regions with disordered loops, or is entirely structured, using insights from Necci et al.'s 2016 research (@Necci2016).\n",
    "Given a protein sequence and structural ensemble, how do we know if it is fully IDP, protein with some IDR regions or it is fully structured with some loops?\n",
    "\n",
    "## Classifying Proteins Based on Disorder:\n",
    "\n",
    "Necci and colleagues proposed a classification scheme for intrinsically disordered proteins (IDPs) based on the number of consecutive disordered residues:\n",
    "\n",
    " 1. Short IDR: Proteins with $5-19$ consecutive disordered residues.\n",
    "\n",
    " 2. Long IDR: Proteins with $\\ge 20$ consecutive disordered residues.\n",
    "\n",
    " 3. Fully Disordered Protein: Proteins with $\\ge 50$ consecutive disordered residues and more than 95% of their content being disordered.\n",
    "\n",
    "This classification scheme provides a straightforward way to categorize proteins based on their disorder characteristics, offering valuable insights into their potential functions.\n",
    "\n",
    "## Mapping Sequence Features:\n",
    "To determine a protein's disorder characteristics, we need to map sequence features from two primary resources: DISPROT and MobiDB. DISPROT is a database that provides information about where structured and disordered regions are located in a protein sequence, while MobiDB offers valuable data on protein mobility and disorder.\n",
    "\n",
    "Using these resources, we can efficiently evaluate the disorder characteristics of a given protein entry in the PED (Protein Ensemble Database). By cross-referencing the information from DISPROT and MobiDB with the PED entries, we can gain a comprehensive understanding of a protein's structural properties.\n"
   ]
  },
  {
   "cell_type": "markdown",
   "id": "171f19140453e1be",
   "metadata": {},
   "source": [
    "# What is MobiDB?\n",
    "MobiDB comprises different types of disorder annotations and different quality levels of disorder evidence. (More information can be found here: @Monzon2020)\n",
    "\n",
    "The source of evidence in MobiDB can be classified depending on the quality of evidence:\n",
    "\n",
    "1. <b>High-quality:</b> data are imported from manually curated external databases. \n",
    "\n",
    "2. <b>Intermediate-quality:</b> annotations are derived from experimental data such as X-ray diffraction, NMR, and NMR chemical shifts. \n",
    "\n",
    "3. <b>Lowest-quality:</b> Disorder predictions are provided by different computational methods and represent the lowest quality and confidence, even though they have by far the largest coverage by including all UniProt proteins\n",
    "\n",
    "<u>In order to provide the most reliable disorder annotation for each protein, MobiDB combines all its data sources into a consensus annotation, prioritizing curated and indirect pieces of evidence over predictions.</u>"
   ]
  },
  {
   "cell_type": "markdown",
   "id": "68e9d4e5fdd56634",
   "metadata": {},
   "source": [
    "<b>Curated Data:</b> High-quality annotations in MobiDB come from external resources which provide manually curated evidence. Intrinsically disordered regions are extracted from three databases, DisProt, FuzDB, and UniProt.\n",
    "DisProt is the largest database which covers manually curated ID annotations. In the latest version of MobiDB, DisProt disordered regions are propagated by homology, exploiting GeneTree alignments with a similarity constraint of 80%.\n",
    "\n",
    "<b> Derived Data:</b> Indirect experimental data sources provide annotations from X-ray experiments, NMR three-dimensional models, and NMRchemical shift data. Indirect disorder information is derived from PDB in three different ways by considering (1) missing, (2) high temperature, and (3) mobile residues. Missing residues are those for which the detected electron density is not sharp enough to model the corresponding structure.\n",
    "\n",
    "<b>Predicted Data:</b> To define a residue as disordered, at least five out of eight predictors have to agree with the prediction."
   ]
  },
  {
   "cell_type": "markdown",
   "id": "fb74465b67a891b9",
   "metadata": {},
   "source": [
    "# Code implementation"
   ]
  },
  {
   "cell_type": "markdown",
   "id": "9ba10061519704f",
   "metadata": {},
   "source": [
    "## Import libraries"
   ]
  },
  {
   "cell_type": "code",
   "execution_count": 1,
   "id": "6b2eca66-1441-4a1c-b8fe-b788b97c5270",
   "metadata": {
    "is_executing": true,
    "jupyter": {
     "outputs_hidden": false
    }
   },
   "outputs": [],
   "source": [
    "# import library\n",
    "import json\n",
    "import pandas as pd\n",
    "import requests\n",
    "\n",
    "from colorama import Fore, Back, Style\n",
    "from itertools import groupby\n",
    "from operator import itemgetter"
   ]
  },
  {
   "cell_type": "markdown",
   "id": "90d62ce703208b76",
   "metadata": {},
   "source": [
    "## Retrieve disorder information from MobiDB"
   ]
  },
  {
   "cell_type": "markdown",
   "id": "32e8c83567b2648f",
   "metadata": {},
   "source": [
    "Next, we define a function to retrieve disorder-related information for a protein using the DISPROT/MobiDB database.\n",
    "\n",
    "Here, we only use data with highest confidence from MobiDB. All highest confidence sources of evidence are treated equally.\n",
    "\n",
    "Specifically, the following categories will be used: \n",
    "\n",
    "1. `curated-disorder-priority`: Residues are annotated with the source with the highest of evidence from curated data\n",
    "\n",
    "2. `homology-disorder-priority`: Residues are annotated with the source with the highest of evidence from homology (see above for more information)\n",
    "\n",
    "3. `derived-missing_residues-priority`: Residues are annotated when at least 90\\% of the children are annotated \n",
    "            \n",
    "4. `prediction-disorder-priority`: Residues are annotated with the source with the highest of evidence from prediction (see above for more information)\n",
    "\n",
    "5. `derived-mobile-th_90`: Mobile residues, residues are annotated when at least 90\\% of the children are annotated "
   ]
  },
  {
   "cell_type": "code",
   "execution_count": 12,
   "id": "5a739572-5cc5-4f3c-a57f-1a4d41364f5b",
   "metadata": {},
   "outputs": [],
   "source": [
    "def get_mobidb_disordered_data(uniprot):\n",
    "    \"\"\"\n",
    "    Retrieve disorder-related information for a protein using the DISPROT/MobiDB database.\n",
    "\n",
    "    This function takes a UniProt ID as input and queries the DISPROT/MobiDB database to retrieve disorder-related\n",
    "    information for the specified protein. It returns a list of intervals representing disordered regions based on\n",
    "    specific keywords, with a preference for \"curated\" disorder information.\n",
    "\n",
    "    Args:\n",
    "        uniprot (str): The UniProt ID of the protein for which disorder information is to be retrieved.\n",
    "\n",
    "    Returns:\n",
    "        list: A list of intervals representing disordered regions. Each interval is represented as a tuple (start, end).\n",
    "\n",
    "    Example:\n",
    "        disordered_regions = get_mobidb_disordered_data(\"P12345\")\n",
    "        print(\"Disordered Regions:\")\n",
    "        for interval in disordered_regions:\n",
    "            print(f\"[{interval[0]}, {interval[1]}]\")\n",
    "\n",
    "    Note:\n",
    "        - The function queries the DISPROT/MobiDB database via its API.\n",
    "        - It prioritizes \"curated\" disorder information when available.\n",
    "        - Disorder information is returned based on specific keywords.\n",
    "        - If no disorder information is found, an empty list is returned.\n",
    "    \"\"\"\n",
    "    # The information about these triplets can be found here: https://mobidb.org/help#vocabulary\n",
    "    keywords = ['curated-disorder-priority',\n",
    "                'homology-disorder-priority',\n",
    "                'derived-missing_residues-priority', \n",
    "                'prediction-disorder-priority', 'derived-mobile-th_90'] #, , 'derived-mobile_context_dependent-th_90'\n",
    "\n",
    "    url = 'https://mobidb.org/api/download?format=json&acc=' + uniprot\n",
    "\n",
    "    # Check if the ID exists in DISPROT/MOBIDB\n",
    "    res = requests.get(url)\n",
    "\n",
    "    if res.status_code == 200:\n",
    "        try:\n",
    "            result = res.json()\n",
    "        except:\n",
    "            print(\"ID DOES NOT EXITS IN THE DATABASE\")\n",
    "            return []  # Return an empty list if JSON parsing fails\n",
    "\n",
    "        disordered_regions = []\n",
    "\n",
    "        for key in keywords:\n",
    "            if key in result.keys():\n",
    "                regions = result[key]['regions']\n",
    "                # print(key, regions)\n",
    "                disordered_regions.append(tuple(regions))\n",
    "\n",
    "        # print(disordered_regions)\n",
    "        if len(disordered_regions) == 0:\n",
    "            print(\"NO DISORDER REGION FOUND\")\n",
    "            return \"Fully structured\"\n",
    "        return disordered_regions\n",
    "\n",
    "    \n",
    "    return []  # Return an empty list if the ID does not exist in the database\n"
   ]
  },
  {
   "cell_type": "code",
   "execution_count": 13,
   "id": "6af8a79b-5b44-445c-ad8f-86c529256ccd",
   "metadata": {},
   "outputs": [
    {
     "data": {
      "text/plain": [
       "[([1, 47], [272, 296], [2083, 2198], [2432, 2477]),\n",
       " ([153, 166], [702, 730], [2330, 2339])]"
      ]
     },
     "execution_count": 13,
     "metadata": {},
     "output_type": "execute_result"
    }
   ],
   "source": [
    "# Example:\n",
    "get_mobidb_disordered_data(\"P02751\")"
   ]
  },
  {
   "cell_type": "markdown",
   "id": "dfe8ca96-d91d-432e-a434-709c1fcc63cb",
   "metadata": {},
   "source": [
    "As we can see, here the function only extracts disorder regions from various criterias and not doing anything. To be more clear, we need to sort out, combine continous regions in a compact form for more intuitative."
   ]
  },
  {
   "cell_type": "markdown",
   "id": "9e49dd883655a5c5",
   "metadata": {},
   "source": [
    "## Merge data in compact, continuous region form"
   ]
  },
  {
   "cell_type": "markdown",
   "id": "bf6414e80ecaca46",
   "metadata": {},
   "source": [
    "As an example, the `get_mobidb_disordered_data` prints all regions without sorting. This is quite messy. We will define a `merge_data` function to sort, combine the results and print in compact form:"
   ]
  },
  {
   "cell_type": "code",
   "execution_count": 14,
   "id": "d7c124ab-4ca6-4306-8dc1-ba3aad9a0858",
   "metadata": {
    "jupyter": {
     "outputs_hidden": false
    }
   },
   "outputs": [],
   "source": [
    "def merge_data(data_sets):\n",
    "    \"\"\"\n",
    "    Merge and compact intervals from multiple data sets.\n",
    "\n",
    "    This function takes a list of data sets, where each data set consists of one or more intervals.\n",
    "    It combines intervals from all data sets, merges overlapping intervals, and further merges adjacent intervals.\n",
    "    The resulting merged intervals are printed in compact form.\n",
    "\n",
    "    Args:\n",
    "        data_sets (list): A list of data sets, where each data set is represented as a tuple of intervals.\n",
    "            Each interval is represented as a list with two elements: [start, end].\n",
    "\n",
    "    Returns:\n",
    "        None: The function prints the merged intervals but does not return a value.\n",
    "\n",
    "    Example:\n",
    "        data_sets = [([1, 56],), ([1, 56],), ([59, 68],), ([57, 58], [150, 160])]\n",
    "        merge_data(data_sets)\n",
    "\n",
    "    Output:\n",
    "        Compact Merged Intervals:\n",
    "        [[1, 68], [150, 160]]\n",
    "\n",
    "    Note:\n",
    "        - Intervals within each data set are merged if they overlap.\n",
    "        - Intervals across different data sets are combined and merged.\n",
    "        - Adjacent intervals are further merged into compact intervals.\n",
    "\n",
    "    \"\"\"\n",
    "    # print(data_sets)\n",
    "    if isinstance(data_sets, str):\n",
    "        # if protein is fully structure, data_sets will be string- then do nothing\n",
    "        return []\n",
    "    if len(data_sets) == 0:\n",
    "        # print(\"[ID does not exist in Database]\")\n",
    "        return []\n",
    "    # Initialize an empty list to store all intervals\n",
    "    all_intervals = []\n",
    "\n",
    "    # Iterate through each data set and collect all intervals\n",
    "    for intervals in data_sets:\n",
    "        all_intervals.extend(intervals)\n",
    "\n",
    "    # Sort the intervals by their start values\n",
    "    all_intervals.sort(key=lambda x: x[0])\n",
    "\n",
    "    # Initialize a list to store the merged intervals\n",
    "    merged_intervals = []\n",
    "\n",
    "    # Iterate through the sorted intervals and merge overlapping intervals\n",
    "    for interval in all_intervals:\n",
    "        if not merged_intervals or interval[0] > merged_intervals[-1][1]:\n",
    "            # If the interval does not overlap with the last merged interval, add it as a new merged interval\n",
    "            merged_intervals.append(interval)\n",
    "        else:\n",
    "            # If the interval overlaps with the last merged interval, merge them\n",
    "            merged_intervals[-1] = [merged_intervals[-1][0], max(merged_intervals[-1][1], interval[1])]\n",
    "\n",
    "    # Further merge adjacent intervals\n",
    "    final_merged_intervals = []\n",
    "    current_interval = merged_intervals[0]\n",
    "\n",
    "    for interval in merged_intervals[1:]:\n",
    "        if current_interval[1] + 1 == interval[0]:\n",
    "            current_interval[1] = interval[1]\n",
    "        else:\n",
    "            final_merged_intervals.append(current_interval)\n",
    "            current_interval = interval\n",
    "\n",
    "    final_merged_intervals.append(current_interval)\n",
    "\n",
    "    # Print the merged intervals in compact form\n",
    "    # print(\"Disorder regions:\")\n",
    "    # print(tuple(final_merged_intervals))\n",
    "    return tuple(final_merged_intervals)\n"
   ]
  },
  {
   "cell_type": "markdown",
   "id": "f8cbd5ffc6db9de6",
   "metadata": {},
   "source": [
    "## Count how many disorder residues in a given sequence"
   ]
  },
  {
   "cell_type": "markdown",
   "id": "9a7e5592c2b73b9c",
   "metadata": {},
   "source": [
    "Alright, Now we have the information about where is the disorder regions of full sequence (MobiDB) and where is the sequence in PED mapping to MobiDB. Question is how many residues in PED sequence are disorder? For that purpose, we define a `count_overlap` function to do this job.\n",
    "\n",
    "This function takes two arguments (as docs of function below)\n",
    "\n",
    "`first_range` is the region of PED sequence, as a tuple\n",
    "\n",
    "`second_ranges` is the disorder regions from MobiDB, is a tuple or list of tuples in case sequence contains many disorder regions and not continous."
   ]
  },
  {
   "cell_type": "code",
   "execution_count": 4,
   "id": "1658aed3-5364-41f6-9fed-9b5aaf1fd593",
   "metadata": {},
   "outputs": [],
   "source": [
    "def count_overlap(first_range, second_ranges):\n",
    "    \"\"\"\n",
    "    Count the number of overlapping numbers between two range tuples.\n",
    "\n",
    "    Args:\n",
    "        first_range (tuple): A tuple representing the first range as (start, end).\n",
    "        second_ranges (tuple or list of tuples): A tuple or list of tuples representing the second ranges.\n",
    "\n",
    "    Returns:\n",
    "        list: A list of counts, where each count corresponds to the number of overlapping numbers for each region\n",
    "            in the second_ranges.\n",
    "\n",
    "    Example:\n",
    "        first_range = (57, 160)\n",
    "        second_ranges = ([1, 68], [150, 160])\n",
    "        overlaps = count_overlap(first_range, second_ranges)\n",
    "        print(overlaps)  # Output: [12, 11]\n",
    "\n",
    "    \"\"\"\n",
    "    # print(first_range, second_ranges)\n",
    "    if isinstance(second_ranges, tuple):\n",
    "        second_ranges = list(second_ranges)\n",
    "    # print(second_ranges)\n",
    "    overlaps = []\n",
    "\n",
    "    if not bool(second_ranges):\n",
    "        # when disorder region is empty-fully structure-return an empty list\n",
    "        return []\n",
    "    \n",
    "    for second_range in second_ranges:\n",
    "        # print(second_range)\n",
    "        start = max(first_range[0], second_range[0])\n",
    "        end = min(first_range[1], second_range[1])\n",
    "\n",
    "        if start <= end:\n",
    "            overlap_count = end - start + 1\n",
    "            overlaps.append(overlap_count)\n",
    "        else:\n",
    "            overlaps.append(0)\n",
    "\n",
    "    return overlaps\n",
    "\n"
   ]
  },
  {
   "cell_type": "code",
   "execution_count": 15,
   "id": "112dbe27-13a9-4a09-a487-c720e681f0cf",
   "metadata": {},
   "outputs": [
    {
     "name": "stdout",
     "output_type": "stream",
     "text": [
      "[12]\n"
     ]
    }
   ],
   "source": [
    "# Example usage:\n",
    "first_range = (57, 160)\n",
    "second_ranges = ([1, 68],)#, [150, 160]\n",
    "overlaps = count_overlap(first_range, second_ranges)\n",
    "print(overlaps)\n"
   ]
  },
  {
   "cell_type": "markdown",
   "id": "24dcede440912447",
   "metadata": {},
   "source": [
    "## Classify protein based on the length of disorder regions"
   ]
  },
  {
   "cell_type": "markdown",
   "id": "0e9ca516-dc35-46aa-aa2d-38325a134caf",
   "metadata": {},
   "source": [
    "We have the length of IDR regions, here we define a function to classify proteins into catagories as stated in the introduction:\n",
    "\n",
    "- Fully IDP\n",
    "\n",
    "- Long IDR\n",
    "\n",
    "- Short IDR\n",
    "\n",
    "- Fully Structured"
   ]
  },
  {
   "cell_type": "code",
   "execution_count": 11,
   "id": "3be08918-0090-4398-a774-a6dc4f303830",
   "metadata": {},
   "outputs": [],
   "source": [
    "def classify_idr_regions(length_of_idr, length_in_ped):\n",
    "    \"\"\"\n",
    "    Classifies Intrinsic Disorder Regions (IDR) based on specified criteria.\n",
    "\n",
    "    Args:\n",
    "        length_of_idr (list of int): A list of integer values representing the lengths\n",
    "            of individual IDR regions.\n",
    "        length_of_pdb (int): The total length of the Protein Data Bank (PDB) structure.\n",
    "\n",
    "    Returns:\n",
    "        str: A classification string for the IDR regions based on the following criteria:\n",
    "            - If any region has a length greater than or equal to 50 and accounts for\n",
    "              more than 95% of the PDB length, it is classified as \"Full IDP.\"\n",
    "            - If any region has a length greater than or equal to 20, it is classified as\n",
    "              \"Long IDR.\"\n",
    "            - If any region has a length between 5 and 19 (inclusive), it is classified as\n",
    "              \"Short IDR.\"\n",
    "            - If all regions have lengths less than 5, the entire structure is classified\n",
    "              as \"Fully Structured.\"\n",
    "\n",
    "    Examples:\n",
    "        >>> length_of_idr = [1, 10, 69]\n",
    "        >>> length_of_pdb = 69\n",
    "        >>> classification = classify_idr_regions(length_of_idr, leng_of_pdb)\n",
    "        >>> print(classification)\n",
    "        \"Long IDR\"\n",
    "        \n",
    "    Note:\n",
    "        - If multiple criteria apply to different regions, the most strict criteria\n",
    "          are applied. The priority is \"Full IDP\" > \"Long IDR\" > \"Short IDR\" > \"Fully Structured.\"\n",
    "        - This function assumes that the input values are valid and correctly represent\n",
    "          the lengths of IDR regions and the PDB length.\n",
    "\n",
    "    \"\"\"\n",
    "    if length_in_ped < 20:\n",
    "        return \"Not Classified\"\n",
    "    \n",
    "    classifications = []\n",
    "\n",
    "    for idr_length in length_of_idr:\n",
    "        if idr_length >= 50 and (idr_length / length_in_ped) >= 0.95:\n",
    "            # the second condition should be sum(length_of_idr)/ length_in_ped it will make more sense\n",
    "            classifications.append(\"Full IDP\")\n",
    "        elif idr_length >= 20:\n",
    "            classifications.append(\"Long IDR\")\n",
    "        elif 5 <= idr_length <= 19:\n",
    "            classifications.append(\"Short IDR\")\n",
    "        else:\n",
    "            classifications.append(\"Undefined\")\n",
    "\n",
    "    # Determine the final classification based on priority\n",
    "    if \"Full IDP\" in classifications:\n",
    "        return \"Fully IDP\"\n",
    "    elif \"Long IDR\" in classifications:\n",
    "        return \"Long IDR\"\n",
    "    elif \"Short IDR\" in classifications:\n",
    "        return \"Short IDR\"\n",
    "    else:\n",
    "        return \"Fully Structured\"\n",
    "\n",
    "# Example usage:\n",
    "# length_of_idr = [3, 4]\n",
    "# length_in_ped = 18\n",
    "# classification = classify_idr_regions(length_of_idr, length_in_ped)\n",
    "# print(\"Classification:\", classification)\n"
   ]
  },
  {
   "cell_type": "markdown",
   "id": "670f42828e6495f0",
   "metadata": {},
   "source": [
    "## Combine all together:"
   ]
  },
  {
   "cell_type": "markdown",
   "id": "52776167-a9a6-4541-a83c-dd053ad01c0d",
   "metadata": {},
   "source": [
    "Function to do the main task: get information from PED, pass uniprot to call MobiDB then do all other stuffs:"
   ]
  },
  {
   "cell_type": "code",
   "execution_count": 16,
   "id": "fc402e42-b936-4e47-8c77-cf9522e3d87c",
   "metadata": {},
   "outputs": [],
   "source": [
    "\"\"\"\n",
    "This function work very well. need some modifies for printing.\n",
    "\"\"\"\n",
    "def get_ped_stats(PEDID):\n",
    "    \"\"\"\n",
    "    Retrieve and display protein ensemble deposition (PED) statistics for a given PED entry.\n",
    "\n",
    "    This function queries the Protein Ensemble Deposition (PED) API to retrieve statistics and information for a\n",
    "    specific PED entry identified by its PEDID. It provides details such as the entry ID, title, and information\n",
    "    about chains and fragments within the entry. Additionally, it calculates the number of overlapping residues\n",
    "    between fragment positions and disordered regions retrieved from the DISPROT/MobiDB database.\n",
    "\n",
    "    Args:\n",
    "        PEDID (str): The PED entry ID for the entry to retrieve statistics.\n",
    "\n",
    "    Returns:\n",
    "        None: The function prints the PED statistics and overlap counts but does not return a value.\n",
    "\n",
    "    Example:\n",
    "        get_ped_stats(\"PED12345\")\n",
    "\n",
    "    Note:\n",
    "        - This function requires the 'requests' library for HTTP requests and 'colorama' for colored output.\n",
    "        - It queries the PED API to obtain entry information.\n",
    "        - It retrieves disordered region information using the DISPROT/MobiDB database.\n",
    "        - Overlapping residues between fragment positions and disordered regions are calculated and displayed.\n",
    "    \"\"\"\n",
    "    url = \"https://deposition.proteinensemble.org/api/v1/entries/\" + PEDID\n",
    "    res = requests.get(url)\n",
    "    if res.status_code == 200:\n",
    "        res = res.json()\n",
    "        print(\"PED ID\\t# chains in entry\\tProtein name\\t\\\"Length in PED (tag counted)\\\"\\tUniProt\\tLength UniProt\\t\\\"Disordered region from MobiDB/DisProt\\\"\\t\\\"PDB region (align to Uniprot)\\\"\\tLength of IDR\\t Classification\")\n",
    "\n",
    "        construct_chains = res['construct_chains']\n",
    "\n",
    "        for chain in construct_chains:\n",
    "            if len(construct_chains) == 1:\n",
    "                # chain_name = chain['chain_name']\n",
    "                entry = PEDID\n",
    "            else:\n",
    "                # chain_name = res['entry_id'] + '_' + chain['chain_name']\n",
    "                entry= PEDID + '_' + chain['chain_name']\n",
    "\n",
    "            n_fragments = len(chain['fragments'])\n",
    "            fragments = chain['fragments']\n",
    "\n",
    "            for fragment, fragment_stats in zip(fragments, chain['fragments_stats']):\n",
    "                protein_name = fragment['description']\n",
    "                length_in_ped = fragment_stats['length_total_pdb']\n",
    "                uniprot = fragment_stats['uniprot']\n",
    "                length_uniprot = fragment_stats['length_total_uniprot']\n",
    "\n",
    "                mobi_disorder_regions = tuple()\n",
    "                if fragment_stats['uniprot'] is not None:\n",
    "                    mobi_disorder_regions = merge_data(get_mobidb_disordered_data(fragment_stats['uniprot']))\n",
    "\n",
    "                pdb_region = tuple([fragment['start_position'], fragment['end_position']])\n",
    "                length_of_idr = count_overlap(pdb_region, mobi_disorder_regions)\n",
    "                classification = classify_idr_regions(length_of_idr, length_in_ped)\n",
    "\n",
    "                print(f\"{entry}\\t{len(construct_chains)}\\t{protein_name}\\t{length_in_ped}\\t{uniprot}\\t{length_uniprot}\\t{mobi_disorder_regions}\\t{pdb_region}\\t{length_of_idr}\\t{classification}\")\n",
    "    elif res.status_code == 404:\n",
    "        print(f\"Entry {PEDID} does not exist\")\n",
    "        return"
   ]
  },
  {
   "cell_type": "markdown",
   "id": "f4c3a4f3cbf95cdc",
   "metadata": {},
   "source": [
    "# Example usage:"
   ]
  },
  {
   "cell_type": "code",
   "execution_count": 17,
   "id": "f46f2622-2c5d-432b-9553-50f12079b961",
   "metadata": {},
   "outputs": [
    {
     "name": "stdout",
     "output_type": "stream",
     "text": [
      "PED ID\t# chains in entry\tProtein name\t\"Length in PED (tag counted)\"\tUniProt\tLength UniProt\t\"Disordered region from MobiDB/DisProt\"\t\"PDB region (align to Uniprot)\"\tLength of IDR\t Classification\n",
      "PED00019_A\t2\tNone\t160\tO14558\t160\t([1, 68], [150, 160])\t(1, 160)\t[68, 11]\tLong IDR\n",
      "PED00019_B\t2\tHeat shock protein beta-6\t160\tO14558\t160\t([1, 68], [150, 160])\t(1, 160)\t[68, 11]\tLong IDR\n"
     ]
    }
   ],
   "source": [
    "ID=19\n",
    "PEDID='PED'+f'{ID:05d}'\n",
    "get_ped_stats(PEDID)"
   ]
  },
  {
   "cell_type": "markdown",
   "id": "e61891a1-20de-4079-b349-7bfe6e97e4c8",
   "metadata": {},
   "source": [
    "## Explanation  of the example"
   ]
  },
  {
   "cell_type": "markdown",
   "id": "4fbc4485-6ee6-4e3b-ac44-d54b6e20c091",
   "metadata": {},
   "source": [
    "Here, we are looking at the PED entry `PED00019`.\n",
    "\n",
    "This entry comprises two chains: Chain `A` and Chain `B`. To enhance clarity, we opt to represent the name as `ENTRY+CHAIN` for both.\n",
    "\n",
    "Chain A consists of 160 residues and can be traced back to the UniProt ID O14558, which is also characterized by 160 residues. \n",
    "\n",
    "The disorder regions, as identified by MobiDB, are situated at positions `[1, 68]` and `[150, 160]`. \n",
    "\n",
    "In the PDB data within PED, the entire sequence, spanning positions `[1, 160]`, is cataloged. \n",
    "\n",
    "Upon a careful comparison of PED PDB data and the disorder regions, we observe the presence of two distinct disorder regions, one spanning 68 residues and the other 11 residues in length.\n",
    "\n",
    "Similar explaination for chain B.\n",
    "\n"
   ]
  },
  {
   "cell_type": "markdown",
   "id": "aeb91d45-383b-4510-99f0-e0a38da4a23c",
   "metadata": {},
   "source": [
    "# Notes:\n",
    "\n",
    "In some cases, PED PDB can be complicated such as single chain is combined of multiple segment from multiple UniProt sequence, we need to manually combine information from that."
   ]
  },
  {
   "cell_type": "code",
   "execution_count": null,
   "id": "40f590bd-1545-410b-a73d-a294efcd6242",
   "metadata": {},
   "outputs": [],
   "source": []
  }
 ],
 "metadata": {
  "kernelspec": {
   "display_name": "Python 3 (ipykernel)",
   "language": "python",
   "name": "python3"
  },
  "language_info": {
   "codemirror_mode": {
    "name": "ipython",
    "version": 3
   },
   "file_extension": ".py",
   "mimetype": "text/x-python",
   "name": "python",
   "nbconvert_exporter": "python",
   "pygments_lexer": "ipython3",
   "version": "3.9.18"
  }
 },
 "nbformat": 4,
 "nbformat_minor": 5
}
