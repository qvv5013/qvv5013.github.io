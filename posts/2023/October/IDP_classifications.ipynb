{
 "cells": [
  {
   "cell_type": "markdown",
   "source": [
    "---\n",
    "title: \"Extracting information from IDP database and IDP classification\"\n",
    "bibliography: references.bib\n",
    "author: \"Quyen Vu\"\n",
    "date: \"2023-10-01\"\n",
    "draft: False\n",
    "categories: [IDP, PED, MobiDB, DisProt]\n",
    "format:\n",
    "  html:\n",
    "    toc: true\n",
    "    code-fold: false\n",
    "jupyter: python3\n",
    "---"
   ],
   "metadata": {
    "collapsed": false
   },
   "id": "d52343360561c89e"
  },
  {
   "cell_type": "markdown",
   "source": [
    "# Introduction\n",
    "\n",
    "Follow the ideas from @Necci2016 that intrinsically disordered proteins can be classified based on the number of consecutive disordered residues:\n",
    " * Short IDR: 5-19 residues\n",
    " * Long IDR: >= 20 residues\n",
    " * Fully disordered protein: >= 50 residues and > 95% ID content.  "
   ],
   "metadata": {
    "collapsed": false
   },
   "id": "a7d228ef4a7d67fa"
  },
  {
   "cell_type": "markdown",
   "source": [
    "# Code implementation"
   ],
   "metadata": {
    "collapsed": false
   },
   "id": "5fd1f176bb39a56f"
  },
  {
   "cell_type": "code",
   "execution_count": 1,
   "outputs": [],
   "source": [
    "# import library\n",
    "import json\n",
    "import pandas as pd\n",
    "import requests\n",
    "\n",
    "from colorama import Fore, Back, Style\n",
    "from itertools import groupby\n",
    "from operator import itemgetter"
   ],
   "metadata": {
    "collapsed": false
   },
   "id": "3bb9c814-253c-4842-a8ef-220922163373"
  },
  {
   "cell_type": "code",
   "execution_count": 2,
   "id": "4764963f-9f92-40fb-b9fd-2b9b5f0e462b",
   "metadata": {},
   "outputs": [],
   "source": [
    "# function to get disorder from DISPROT/MobiDB\n",
    "def get_mobidb_disordered_stats(uniprot):\n",
    "    \"\"\"\n",
    "    as the disorder information from mobiDB, the order of method I trust: curated-disorder-disprot-which is curated by the team.\n",
    "    then, homology. Prediction is not accurate-this observation comes from various manually check.\n",
    "    \"\"\"\n",
    "    keywords = ['curated-disorder-disprot','curated-disorder-priority','homology-disorder-priority','prediction-disorder-priority'] #,\n",
    "    url='https://mobidb.org/api/download?format=json&acc='+uniprot\n",
    "    # check if the ID exists in DISPROT/MOBIDB\n",
    "    res = requests.get(url)\n",
    "\n",
    "    if res.status_code == 200:\n",
    "        try:\n",
    "            result = res.json()\n",
    "        except:\n",
    "            print(\"[ID does not exist in Database]\")\n",
    "        else:\n",
    "            disorder_found = False\n",
    "\n",
    "            for key in keywords:\n",
    "                if key in result.keys():\n",
    "                    print(f\"{key}: {tuple(result[key]['regions'])}\")\n",
    "                    disorder_found = True\n",
    "                    break\n",
    "            if not disorder_found:\n",
    "                print(\"([No_DISPROT_INFO])\")\n",
    "\n",
    "    else:\n",
    "        print(\"[ID does not exist in Database]\")"
   ]
  },
  {
   "cell_type": "code",
   "execution_count": 3,
   "id": "8ea4284b-c41b-46ed-9ccb-5f69a4e33951",
   "metadata": {
    "tags": []
   },
   "outputs": [],
   "source": [
    "# Function to read data from PED\n",
    "def print_seq(sequence):\n",
    "    l=len(sequence)\n",
    "    i=0\n",
    "    while i < l:\n",
    "        print(sequence[i:i+10], end=' ')\n",
    "        i+=10\n",
    "#     for i in range(int(l/10)):\n",
    "# #         print(i)\n",
    "#         print(sequence[i:i+10], end=' ')\n",
    "    print(\"\")\n",
    "    \n",
    "def get_ped_stats(PEDID):\n",
    "    url = \"https://deposition.proteinensemble.org/api/v1/entries/\" + PEDID\n",
    "    res = requests.get(url).json()\n",
    "    # source information-UniProt\n",
    "    print(\"********************************************************************************\")\n",
    "    print(Back.GREEN +'Entry ID:')\n",
    "    print(Style.RESET_ALL)\n",
    "    print(res['entry_id'])\n",
    "    print(f\"Title: {res['description'].get('title')}\")\n",
    "    \n",
    "    construct_chains = res['construct_chains']\n",
    "#     print('Construct Chains:')\n",
    "    n_chains=len(construct_chains)\n",
    "    print(f\"Number of chains in this entry: {n_chains}\")\n",
    "    \n",
    "    #     working with single chain in construct\n",
    "    for chain in construct_chains:\n",
    "        print(\"----\")\n",
    "        if n_chains ==1:\n",
    "            print(f\"Chain name: {chain['chain_name']}\")\n",
    "        else:\n",
    "            print(f\"Chain name: {res['entry_id']}_{chain['chain_name']}\")\n",
    "        \n",
    "#         print(chain['alignment'])\n",
    "        n_fragments = len(chain['fragments'])\n",
    "        fragments = chain['fragments']\n",
    "        print(f'There are {n_fragments} fragment(s) in this chain')\n",
    "        # working with fragment\n",
    "        print(Back.GREEN +\"***INFORMATION ABOUT EACH FRAGMENT***\")\n",
    "        print(Style.RESET_ALL)\n",
    "        # print(chain['alignment'])\n",
    "        for fragment, fragment_stats in zip(fragments, chain['fragments_stats']):\n",
    "            print(Back.YELLOW + \"Protein name:\",end='')\n",
    "            print(Style.RESET_ALL,end='')\n",
    "            print(f\" {fragment['description']}\")\n",
    "            # print(\"Source_sequence (Full sequence from UniProt):\")\n",
    "            # print_seq(fragment['source_sequence'])\n",
    "            print(f\"POSITION OF FRAGMENT IN UNIPROT SEQUENCE: ([{fragment['start_position']}, {fragment['end_position']}])\")\n",
    "\n",
    "            print(f\"uniprot_acc: {fragment['uniprot_acc']}\")\n",
    "            print(\"****\")  \n",
    "            \n",
    "            if fragment_stats['uniprot'] is not None:\n",
    "                               \n",
    "                # Length, starting and ending residue in PED PDB file\n",
    "                print(f\"Length_total_PDB: {fragment_stats['length_total_pdb']}\")\n",
    "                # print(f\"Start Position alig: {fragment_stats['start_position_alig']}\")\n",
    "                # print(f\"End Position align: {fragment_stats['end_position_alig']}\")\n",
    "                print(f\"Start Position PDB: {fragment_stats['start_position_pdb']}\")\n",
    "                print(f\"End Position PDB: {fragment_stats['end_position_pdb']}\")\n",
    "                \n",
    "                print(f\"UniProt: {fragment_stats['uniprot']}\")\n",
    "                print(f\"Length_total_UniProt: {fragment_stats['length_total_uniprot']}\")\n",
    "                print(\"Disordered region from Disprot:\")\n",
    "                get_mobidb_disordered_stats(fragment_stats['uniprot'])\n",
    "                print(\"\\n...\")"
   ]
  },
  {
   "cell_type": "code",
   "execution_count": 4,
   "id": "a82d8b5a-717f-4065-99df-b404d2e847ef",
   "metadata": {
    "tags": []
   },
   "outputs": [
    {
     "name": "stdout",
     "output_type": "stream",
     "text": [
      "********************************************************************************\n",
      "\u001B[42mEntry ID:\n",
      "\u001B[0m\n",
      "PED00431\n",
      "Title: Solution structure of the LEDGF/p75 IBD - IWS1 complex\n",
      "Number of chains in this entry: 1\n",
      "----\n",
      "Chain name: A\n",
      "There are 3 fragment(s) in this chain\n",
      "\u001B[42m***INFORMATION ABOUT EACH FRAGMENT***\n",
      "\u001B[0m\n",
      "\u001B[43mProtein name:\u001B[0m Expression tag\n",
      "POSITION OF FRAGMENT IN UNIPROT SEQUENCE: ([1, 6])\n",
      "uniprot_acc: None\n",
      "****\n",
      "\u001B[43mProtein name:\u001B[0m LEDGF\n",
      "POSITION OF FRAGMENT IN UNIPROT SEQUENCE: ([345, 442])\n",
      "uniprot_acc: O75475\n",
      "****\n",
      "Length_total_PDB: 206\n",
      "Start Position PDB: 345\n",
      "End Position PDB: 442\n",
      "UniProt: O75475\n",
      "Length_total_UniProt: 530\n",
      "Disordered region from Disprot:\n",
      "curated-disorder-disprot: ([430, 471],)\n",
      "\n",
      "...\n",
      "\u001B[43mProtein name:\u001B[0m IWS1\n",
      "POSITION OF FRAGMENT IN UNIPROT SEQUENCE: ([447, 548])\n",
      "uniprot_acc: Q96ST2\n",
      "****\n",
      "Length_total_PDB: 206\n",
      "Start Position PDB: 447\n",
      "End Position PDB: 548\n",
      "UniProt: Q96ST2\n",
      "Length_total_UniProt: 819\n",
      "Disordered region from Disprot:\n",
      "prediction-disorder-priority: ([1, 446], [549, 549], [696, 819])\n",
      "\n",
      "...\n"
     ]
    }
   ],
   "source": [
    "ID=431\n",
    "PEDID='PED'+f'{ID:05d}'\n",
    "# print(PEDID)\n",
    "get_ped_stats(PEDID)"
   ]
  },
  {
   "cell_type": "code",
   "execution_count": 75,
   "id": "546b2b9c-8cfe-427c-951a-43811632f2b4",
   "metadata": {},
   "outputs": [
    {
     "name": "stdout",
     "output_type": "stream",
     "text": [
      "([No_DISPROT_INFO])\n"
     ]
    }
   ],
   "source": [
    "get_mobidb_disordered_stats(\"P0DP29\")"
   ]
  },
  {
   "cell_type": "markdown",
   "source": [
    "Note that when the output is `([No_DISPROT_INFO])`, we need to check from MobiDB website to see if the protein is fully structured or the protein does not exist on the database."
   ],
   "metadata": {
    "collapsed": false
   },
   "id": "bc5e3e9699d20a88"
  },
  {
   "cell_type": "markdown",
   "id": "22150f99-7ebf-4e7a-b7fa-9ebe917d3e05",
   "metadata": {},
   "source": [
    "# Other functions\n",
    "\n",
    "In the previous sections, we discussed the fundamental core functions for extracting information. However, the world of data analysis often requires more than just the basics. In this section, we'll delve into some other essential functions that can be incredibly valuable in specific scenarios.\n",
    "\n",
    "One common situation that researchers often encounter is the need to handle disordered residues. In some cases, curated information about disordered residues may differ from predictions. To create a unified approach where a residue is considered disordered if either it's curated as disordered or predicted as disordered, you can employ the following code snippet. It's worth noting that the code provided accomplishes the task but doesn't standardize the results yet."
   ]
  },
  {
   "cell_type": "code",
   "execution_count": 62,
   "id": "3cf75061-1654-4e49-bdfe-bab461a0957b",
   "metadata": {},
   "outputs": [],
   "source": [
    "disorder_regions_1 = [[8, 12]]\n",
    "disorder_regions_2 = [[1, 10], [15, 19]]\n",
    "disorder_region = disorder_regions_1+disorder_regions_2"
   ]
  },
  {
   "cell_type": "code",
   "execution_count": 63,
   "id": "a6ee9508-92ee-46ba-b59f-df65661cd2b7",
   "metadata": {},
   "outputs": [
    {
     "data": {
      "text/plain": [
       "[[8, 12], [1, 10], [15, 19]]"
      ]
     },
     "execution_count": 63,
     "metadata": {},
     "output_type": "execute_result"
    }
   ],
   "source": [
    "disorder_region"
   ]
  },
  {
   "cell_type": "code",
   "execution_count": 64,
   "id": "da43610f-f63e-43e9-9ded-a120524c758b",
   "metadata": {},
   "outputs": [
    {
     "name": "stdout",
     "output_type": "stream",
     "text": [
      "8 12\n",
      "1 10\n",
      "15 19\n"
     ]
    }
   ],
   "source": [
    "final_list = []\n",
    "for reg in disorder_region:\n",
    "    final_list += list(range(reg[0], reg[1]+1))"
   ]
  },
  {
   "cell_type": "code",
   "execution_count": 65,
   "id": "bbb22332-4c89-4419-aef2-f10d2a08f1e8",
   "metadata": {},
   "outputs": [
    {
     "data": {
      "text/plain": [
       "[8, 9, 10, 11, 12, 1, 2, 3, 4, 5, 6, 7, 8, 9, 10, 15, 16, 17, 18, 19]"
      ]
     },
     "execution_count": 65,
     "metadata": {},
     "output_type": "execute_result"
    }
   ],
   "source": [
    "final_list"
   ]
  },
  {
   "cell_type": "code",
   "execution_count": 45,
   "id": "d8b50c62-a5a2-40e5-be30-772ca0bed72a",
   "metadata": {},
   "outputs": [],
   "source": [
    "# remove duplicated value\n",
    "final_list = list( dict.fromkeys(final_list) )"
   ]
  },
  {
   "cell_type": "code",
   "execution_count": 66,
   "id": "cbbe0979-e211-430e-8474-f72362a0571a",
   "metadata": {},
   "outputs": [],
   "source": [
    "final_list = sorted(final_list)"
   ]
  },
  {
   "cell_type": "code",
   "execution_count": 67,
   "id": "c7a9a444-fec7-45d2-b33f-9a7ec6ee998b",
   "metadata": {},
   "outputs": [],
   "source": [
    "ranges = []\n",
    "for k,g in groupby(enumerate(final_list),lambda x:x[0]-x[1]):\n",
    "    group = (map(itemgetter(1),g))\n",
    "    group = list(map(int,group))\n",
    "    ranges.append((group[0],group[-1]))"
   ]
  },
  {
   "cell_type": "code",
   "execution_count": 68,
   "id": "cdf245e9-b241-4d4f-b225-791baf600008",
   "metadata": {},
   "outputs": [
    {
     "data": {
      "text/plain": [
       "[(1, 8), (8, 9), (9, 10), (10, 12), (15, 19)]"
      ]
     },
     "execution_count": 68,
     "metadata": {},
     "output_type": "execute_result"
    }
   ],
   "source": [
    "ranges"
   ]
  },
  {
   "cell_type": "markdown",
   "source": [
    "This code snippet will help you harmonize the disparate sources of data related to disordered residues, allowing for a more comprehensive analysis. However, for a complete and standardized solution, further steps may be necessary, depending on your specific use case.\n",
    "\n",
    "In the world of data analysis, having a variety of functions at your disposal is crucial. These additional functions go beyond the basics and empower you to handle more complex scenarios, enhancing the depth and accuracy of your analyses."
   ],
   "metadata": {
    "collapsed": false
   },
   "id": "bdf2136fcb65f689"
  },
  {
   "cell_type": "code",
   "execution_count": null,
   "outputs": [],
   "source": [],
   "metadata": {
    "collapsed": false
   },
   "id": "7bd29fadd628a5ff"
  }
 ],
 "metadata": {
  "kernelspec": {
   "display_name": "Python 3 (ipykernel)",
   "language": "python",
   "name": "python3"
  },
  "language_info": {
   "codemirror_mode": {
    "name": "ipython",
    "version": 3
   },
   "file_extension": ".py",
   "mimetype": "text/x-python",
   "name": "python",
   "nbconvert_exporter": "python",
   "pygments_lexer": "ipython3",
   "version": "3.9.7"
  }
 },
 "nbformat": 4,
 "nbformat_minor": 5
}
