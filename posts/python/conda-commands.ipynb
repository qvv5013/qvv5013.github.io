{
 "cells": [
  {
   "cell_type": "raw",
   "id": "e83329cf",
   "metadata": {},
   "source": [
    "---\n",
    "title: \"Some Conda Commands Frequently Used\"\n",
    "author: \"Quyen Vu\"\n",
    "date: \"2023-02-24\"\n",
    "categories: [Python]\n",
    "draft: false\n",
    "format:\n",
    "  html:\n",
    "    code-fold: false\n",
    "jupyter: bash\n",
    "---"
   ]
  },
  {
   "cell_type": "raw",
   "id": "2eac7bfc",
   "metadata": {},
   "source": [
    "`conda` is a great python package environment."
   ]
  },
  {
   "cell_type": "markdown",
   "id": "df3857cc",
   "metadata": {},
   "source": [
    "# Here is some frequently used commands:\n",
    "## (Post under construction)"
   ]
  },
  {
   "cell_type": "markdown",
   "id": "797500fe",
   "metadata": {},
   "source": [
    "1. Create a new environment: `conda create -n ENV_NAME python=PYTHON_VERSION`\n",
    "2. List all env: `conda env list`\n",
    "2. Delete environment: `conda env remove -n ENV_NAME`"
   ]
  },
  {
   "cell_type": "code",
   "execution_count": null,
   "id": "d1390a30",
   "metadata": {},
   "outputs": [],
   "source": []
  }
 ],
 "metadata": {
  "kernelspec": {
   "display_name": "Python 3 (ipykernel)",
   "language": "python",
   "name": "python3"
  },
  "language_info": {
   "codemirror_mode": {
    "name": "ipython",
    "version": 3
   },
   "file_extension": ".py",
   "mimetype": "text/x-python",
   "name": "python",
   "nbconvert_exporter": "python",
   "pygments_lexer": "ipython3",
   "version": "3.9.16"
  },
  "toc": {
   "base_numbering": 1,
   "nav_menu": {},
   "number_sections": true,
   "sideBar": true,
   "skip_h1_title": false,
   "title_cell": "Table of Contents",
   "title_sidebar": "Contents",
   "toc_cell": false,
   "toc_position": {},
   "toc_section_display": true,
   "toc_window_display": false
  }
 },
 "nbformat": 4,
 "nbformat_minor": 5
}
