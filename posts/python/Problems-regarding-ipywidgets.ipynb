{
 "cells": [
  {
   "cell_type": "raw",
   "id": "e83329cf",
   "metadata": {},
   "source": [
    "---\n",
    "title: \"Problems regarding ipywidgets has no attribute 'version_info'\"\n",
    "author: \"Quyen Vu\"\n",
    "date: \"2022-12-11\"\n",
    "categories: [Python]\n",
    "draft: false\n",
    "format:\n",
    "  html:\n",
    "    code-fold: false\n",
    "jupyter: bash\n",
    "---"
   ]
  },
  {
   "cell_type": "raw",
   "id": "2eac7bfc",
   "metadata": {},
   "source": [
    "Recently, Pyemma, MDAnalysis encounter problems with `ipythonwidgets`"
   ]
  },
  {
   "cell_type": "markdown",
   "id": "df3857cc",
   "metadata": {},
   "source": [
    "Due to the recent update of `ipywidgets` you will sometime encounter problems such that `ipywidgets has no attribute 'version_info'`.\n",
    "\n",
    "The dirty solution is install version `ipywidgets<8`. version 7.7 may help and wait till developers of `ipywidgets` fix it"
   ]
  }
 ],
 "metadata": {
  "kernelspec": {
   "display_name": "Python 3 (ipykernel)",
   "language": "python",
   "name": "python3"
  },
  "language_info": {
   "codemirror_mode": {
    "name": "ipython",
    "version": 3
   },
   "file_extension": ".py",
   "mimetype": "text/x-python",
   "name": "python",
   "nbconvert_exporter": "python",
   "pygments_lexer": "ipython3",
   "version": "3.10.5"
  },
  "toc": {
   "base_numbering": 1,
   "nav_menu": {},
   "number_sections": true,
   "sideBar": true,
   "skip_h1_title": false,
   "title_cell": "Table of Contents",
   "title_sidebar": "Contents",
   "toc_cell": false,
   "toc_position": {},
   "toc_section_display": true,
   "toc_window_display": false
  }
 },
 "nbformat": 4,
 "nbformat_minor": 5
}
