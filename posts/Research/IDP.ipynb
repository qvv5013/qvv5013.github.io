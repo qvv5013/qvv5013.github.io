{
 "cells": [
  {
   "cell_type": "raw",
   "source": [
    "---\n",
    "title: \"IDP\"\n",
    "author: \"Quyen Vu\"\n",
    "date: \"2022-12-09\"\n",
    "draft: true\n",
    "categories: [Research, IDP, LLPS]\n",
    "format:\n",
    "  html:\n",
    "    code-fold: false\n",
    "jupyter: bash\n",
    "---"
   ],
   "metadata": {
    "collapsed": false
   }
  },
  {
   "cell_type": "markdown",
   "source": [
    "(1) Zhang, M.; Xue, B.; Li, Q.; Shi, R.; Cao, Y.; Wang, W.; Li, J. Sequence Tendency for the Interaction between Low-Complexity Intrinsically Disordered Proteins. 2022. https://doi.org/10.1021/jacsau.2c00414.\n"
   ],
   "metadata": {
    "collapsed": false
   }
  },
  {
   "cell_type": "markdown",
   "source": [
    "smFRET-FCS experiments of Tau indicated that: Tau adopted a **extended** conformation ensemble under **LLPS** condition which facilitated protein interaction. This is consistent with what we found in entanglement simulation of HP1-$\\alpha$: under LLPS condition, population of entanglement (is just about 50% of time) decreasing dramatically compared to single chain simulation (about 95%)"
   ],
   "metadata": {
    "collapsed": false
   }
  },
  {
   "cell_type": "markdown",
   "source": [
    "Notes from Kresten Lindorff-Larsen:\n",
    "\n",
    "* bi-modal distribution of Rg in MD simulations of LAF1 RGG arising from (I think) ionic interactions.\n",
    "* Reminds me of work by @xiangzezeng @PappulabWashU that shows bi-stability in model polyampholytic peptides due to competition between electrostatic attraction and favourable solvation (https://www.pnas.org/doi/full/10.1073/pnas.2200559119).\n",
    "* @xiangzezeng et al show that such behaviour could appear (experimentally in work by @ProteinMagnus) as an ensemble with an intermediate scaling exponent, which would represent an average of the compact and expanded conformations.\n"
   ],
   "metadata": {
    "collapsed": false
   }
  },
  {
   "cell_type": "code",
   "execution_count": null,
   "outputs": [],
   "source": [],
   "metadata": {
    "collapsed": false
   }
  }
 ],
 "metadata": {
  "kernelspec": {
   "display_name": "Python 3 (ipykernel)",
   "language": "python",
   "name": "python3"
  },
  "language_info": {
   "codemirror_mode": {
    "name": "ipython",
    "version": 3
   },
   "file_extension": ".py",
   "mimetype": "text/x-python",
   "name": "python",
   "nbconvert_exporter": "python",
   "pygments_lexer": "ipython3",
   "version": "3.10.5"
  },
  "toc": {
   "base_numbering": 1,
   "nav_menu": {},
   "number_sections": true,
   "sideBar": true,
   "skip_h1_title": false,
   "title_cell": "Table of Contents",
   "title_sidebar": "Contents",
   "toc_cell": false,
   "toc_position": {},
   "toc_section_display": true,
   "toc_window_display": false
  }
 },
 "nbformat": 4,
 "nbformat_minor": 5
}
