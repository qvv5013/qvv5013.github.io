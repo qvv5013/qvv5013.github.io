{
 "cells": [
  {
   "cell_type": "raw",
   "id": "16c5c022",
   "metadata": {},
   "source": [
    "---\n",
    "title: \"All-Atom simulations of IDP\"\n",
    "bibliography: references.bib\n",
    "author: \"Quyen Vu\"\n",
    "date: \"2023-8-17\"\n",
    "draft: false\n",
    "categories: [Research, IDP, LLPS]\n",
    "format:\n",
    "  html:\n",
    "    toc: true\n",
    "    code-fold: false\n",
    "jupyter: bash\n",
    "---"
   ]
  },
  {
   "cell_type": "markdown",
   "id": "b1485bfd",
   "metadata": {},
   "source": [
    "### List of simulation works using all-atom resolution and force field used:"
   ]
  },
  {
   "cell_type": "markdown",
   "id": "8c1586ed",
   "metadata": {},
   "source": [
    "* @Galvanetto2023 used Amber99SBws force field with the TIP4P/2005s water model. Their FFs for Gromacs can be download from: [https://github.com/bestlab/force_fields](https://github.com/bestlab/force_fields). This folder contains various FFs with an explaination. I have made a fork from their repo for backup to my own account."
   ]
  },
  {
   "cell_type": "markdown",
   "id": "0c12f12b",
   "metadata": {},
   "source": [
    "* @Priyesh2023 used AMBER99SBws-STQ force field with TIP4P/2005. Download from [HERE](https://bitbucket.org/jeetain/all-atom_ff_refinements/src/master/amber99sbws-stq.ff/). A backup version is located in: `Research/IDP_AA_FFs/`"
   ]
  },
  {
   "cell_type": "code",
   "execution_count": null,
   "id": "0a8aeeb5",
   "metadata": {},
   "outputs": [],
   "source": []
  }
 ],
 "metadata": {
  "kernelspec": {
   "display_name": "Python 3 (ipykernel)",
   "language": "python",
   "name": "python3"
  },
  "language_info": {
   "codemirror_mode": {
    "name": "ipython",
    "version": 3
   },
   "file_extension": ".py",
   "mimetype": "text/x-python",
   "name": "python",
   "nbconvert_exporter": "python",
   "pygments_lexer": "ipython3",
   "version": "3.9.16"
  },
  "toc": {
   "base_numbering": 1,
   "nav_menu": {},
   "number_sections": true,
   "sideBar": true,
   "skip_h1_title": false,
   "title_cell": "Table of Contents",
   "title_sidebar": "Contents",
   "toc_cell": false,
   "toc_position": {},
   "toc_section_display": true,
   "toc_window_display": false
  }
 },
 "nbformat": 4,
 "nbformat_minor": 5
}
